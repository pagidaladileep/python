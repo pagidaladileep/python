{
 "cells": [
  {
   "cell_type": "code",
   "execution_count": 2,
   "id": "35d8815a",
   "metadata": {},
   "outputs": [
    {
     "name": "stdout",
     "output_type": "stream",
     "text": [
      "145\n",
      "Mystery\n"
     ]
    }
   ],
   "source": [
    "class Book:\n",
    "    numberOfPages=145\n",
    "    author=\"Dileep\"\n",
    "    scope=\"To be Sold IN India\"\n",
    "    \n",
    "    def __init__(self,zone):\n",
    "        self.zone=zone\n",
    "my_book=Book(\"Mystery\")\n",
    "print(my_book.numberOfPages)\n",
    "print(my_book.zone)"
   ]
  },
  {
   "cell_type": "code",
   "execution_count": 3,
   "id": "c1b35346",
   "metadata": {},
   "outputs": [
    {
     "ename": "TypeError",
     "evalue": "Book.__init__() takes 2 positional arguments but 3 were given",
     "output_type": "error",
     "traceback": [
      "\u001b[1;31m---------------------------------------------------------------------------\u001b[0m",
      "\u001b[1;31mTypeError\u001b[0m                                 Traceback (most recent call last)",
      "Cell \u001b[1;32mIn[3], line 8\u001b[0m\n\u001b[0;32m      6\u001b[0m     \u001b[38;5;28;01mdef\u001b[39;00m \u001b[38;5;21m__init__\u001b[39m(\u001b[38;5;28mself\u001b[39m,zone):\n\u001b[0;32m      7\u001b[0m         \u001b[38;5;28mself\u001b[39m\u001b[38;5;241m.\u001b[39mzone\u001b[38;5;241m=\u001b[39mzone\n\u001b[1;32m----> 8\u001b[0m my_book\u001b[38;5;241m=\u001b[39m\u001b[43mBook\u001b[49m\u001b[43m(\u001b[49m\u001b[38;5;124;43m\"\u001b[39;49m\u001b[38;5;124;43mMystery\u001b[39;49m\u001b[38;5;124;43m\"\u001b[39;49m\u001b[43m,\u001b[49m\u001b[38;5;124;43m\"\u001b[39;49m\u001b[38;5;124;43m09-11-2002\u001b[39;49m\u001b[38;5;124;43m\"\u001b[39;49m\u001b[43m)\u001b[49m\n\u001b[0;32m      9\u001b[0m \u001b[38;5;28mprint\u001b[39m(my_book\u001b[38;5;241m.\u001b[39mnumberOfPages)\n\u001b[0;32m     10\u001b[0m \u001b[38;5;28mprint\u001b[39m(my_book\u001b[38;5;241m.\u001b[39mzone)\n",
      "\u001b[1;31mTypeError\u001b[0m: Book.__init__() takes 2 positional arguments but 3 were given"
     ]
    }
   ],
   "source": [
    "class Book:\n",
    "    numberOfPages=145\n",
    "    author=\"Dileep\"\n",
    "    scope=\"To be Sold IN India\"\n",
    "    \n",
    "    def __init__(self,zone):\n",
    "        self.zone=zone\n",
    "my_book=Book(\"Mystery\",\"09-11-2002\")\n",
    "print(my_book.numberOfPages)\n",
    "print(my_book.zone)\n",
    "print(my_book.dob)"
   ]
  },
  {
   "cell_type": "code",
   "execution_count": 4,
   "id": "583b8455",
   "metadata": {},
   "outputs": [
    {
     "name": "stdout",
     "output_type": "stream",
     "text": [
      "145\n",
      "Mystery\n",
      "09-11-2002\n"
     ]
    }
   ],
   "source": [
    "class Book:\n",
    "    numberOfPages=145\n",
    "    author=\"Dileep\"\n",
    "    scope=\"To be Sold IN India\"\n",
    "    \n",
    "    def __init__(self,zone,dob):\n",
    "        self.zone=zone\n",
    "        self.dob=dob\n",
    "my_book=Book(\"Mystery\",\"09-11-2002\")\n",
    "print(my_book.numberOfPages)\n",
    "print(my_book.zone)\n",
    "print(my_book.dob)"
   ]
  },
  {
   "cell_type": "code",
   "execution_count": 7,
   "id": "7dc79bd1",
   "metadata": {},
   "outputs": [
    {
     "name": "stdout",
     "output_type": "stream",
     "text": [
      "145\n",
      "Mystery\n",
      "09-11-2002\n",
      "Destructor is called\n"
     ]
    }
   ],
   "source": [
    "class Book:\n",
    "    numberOfPages=145\n",
    "    author=\"Dileep\"\n",
    "    scope=\"To be Sold IN India\"\n",
    "    \n",
    "    def __init__(self,zone,dob):\n",
    "        self.zone=zone\n",
    "        self.dob=dob\n",
    "    def __del__(self):\n",
    "        print(\"Destructor is called\")\n",
    "my_book=Book(\"Mystery\",\"09-11-2002\")\n",
    "print(my_book.numberOfPages)\n",
    "print(my_book.zone)\n",
    "print(my_book.dob)\n",
    "del my_book"
   ]
  },
  {
   "cell_type": "markdown",
   "id": "a64ff9fa",
   "metadata": {},
   "source": [
    "# OOPS PILLARS"
   ]
  },
  {
   "cell_type": "markdown",
   "id": "c6a17898",
   "metadata": {},
   "source": [
    "1.Inheritance\n",
    "2.Polymorphism\n",
    "3.Abstraction\n",
    "4.Encapsulation"
   ]
  },
  {
   "cell_type": "code",
   "execution_count": 9,
   "id": "6e460e0f",
   "metadata": {},
   "outputs": [
    {
     "ename": "TypeError",
     "evalue": "School.__init__() missing 1 required positional argument: 'age'",
     "output_type": "error",
     "traceback": [
      "\u001b[1;31m---------------------------------------------------------------------------\u001b[0m",
      "\u001b[1;31mTypeError\u001b[0m                                 Traceback (most recent call last)",
      "Cell \u001b[1;32mIn[9], line 12\u001b[0m\n\u001b[0;32m     10\u001b[0m     \u001b[38;5;28;01mdef\u001b[39;00m \u001b[38;5;21mgetName\u001b[39m(\u001b[38;5;28mself\u001b[39m):\n\u001b[0;32m     11\u001b[0m         \u001b[38;5;28;01mreturn\u001b[39;00m \u001b[38;5;124m\"\u001b[39m\u001b[38;5;124mDileep\u001b[39m\u001b[38;5;124m\"\u001b[39m\n\u001b[1;32m---> 12\u001b[0m my_school\u001b[38;5;241m=\u001b[39m\u001b[43mSubSchool\u001b[49m\u001b[43m(\u001b[49m\u001b[43m)\u001b[49m\n\u001b[0;32m     13\u001b[0m \u001b[38;5;28mprint\u001b[39m(my_school\u001b[38;5;241m.\u001b[39mgetParameter)\n\u001b[0;32m     14\u001b[0m \u001b[38;5;28mprint\u001b[39m(my_school\u001b[38;5;241m.\u001b[39mgetName)\n",
      "\u001b[1;31mTypeError\u001b[0m: School.__init__() missing 1 required positional argument: 'age'"
     ]
    }
   ],
   "source": [
    "class School:\n",
    "    name=\"RHS\"\n",
    "    def __init__(self,age):\n",
    "        self.age=age\n",
    "    def getAge(self):\n",
    "        return self.age\n",
    "class SubSchool(School):\n",
    "    def getParameter(self):\n",
    "        return \"RHS\"\n",
    "    def getName(self):\n",
    "        return \"Dileep\"\n",
    "my_school=SubSchool()\n",
    "print(my_school.getParameter)\n",
    "print(my_school.getName)\n",
    "print(my_school.getAge)"
   ]
  },
  {
   "cell_type": "code",
   "execution_count": 11,
   "id": "15cc8fc6",
   "metadata": {},
   "outputs": [
    {
     "name": "stdout",
     "output_type": "stream",
     "text": [
      "Child Constructor\n"
     ]
    }
   ],
   "source": [
    "class School:\n",
    "    name=\"RHS\"\n",
    "    def __init__(self,age):\n",
    "        self.age=age\n",
    "    def getAge(self):\n",
    "        return self.age\n",
    "class SubSchool(School):\n",
    "    def __init__(self):\n",
    "        print(\"Child Constructor\")\n",
    "    def getParameter(self):\n",
    "        return \"RHS\"\n",
    "    def getName(self):\n",
    "        return \"Dileep\"\n",
    "my_school=SubSchool()\n",
    "#print(my_school.getParameter)\n",
    "#print(my_school.getName)\n",
    "#print(my_school.getAge)"
   ]
  },
  {
   "cell_type": "code",
   "execution_count": 15,
   "id": "d3912238",
   "metadata": {},
   "outputs": [
    {
     "name": "stdout",
     "output_type": "stream",
     "text": [
      "Child Constructor\n"
     ]
    }
   ],
   "source": [
    "class School:\n",
    "    name=\"RHS\"\n",
    "    #def __init__(self,age):\n",
    "     #   self.age=age\n",
    "    def getAge(self):\n",
    "        return self.age\n",
    "class SubSchool(School):\n",
    "    def __init__(self):\n",
    "        print(\"Child Constructor\")\n",
    "    def getParameter(self):\n",
    "        return \"RHS\"\n",
    "    def getName(self):\n",
    "        return \"Dileep\"\n",
    "my_school=SubSchool()\n",
    "#print(my_school.getParameter)\n",
    "#print(my_school.getName)\n",
    "#print(my_school.getAge)"
   ]
  },
  {
   "cell_type": "code",
   "execution_count": 19,
   "id": "fcadfdb1",
   "metadata": {
    "scrolled": true
   },
   "outputs": [
    {
     "name": "stdout",
     "output_type": "stream",
     "text": [
      "Child Constructor\n",
      "RHS\n",
      "Dileep\n",
      "24\n"
     ]
    }
   ],
   "source": [
    "class School:\n",
    "    name=\"RHS\"\n",
    "    age=\"24\"\n",
    "    #def __init__(self,age):\n",
    "     #   self.age=age\n",
    "    def getAge(self):\n",
    "        return self.age\n",
    "class SubSchool(School):\n",
    "    def __init__(self):\n",
    "        print(\"Child Constructor\")\n",
    "    def getParameter(self):\n",
    "        return \"RHS\"\n",
    "    def getName(self):\n",
    "        return \"Dileep\"\n",
    "my_school=SubSchool()\n",
    "print(my_school.getParameter())\n",
    "print(my_school.getName())\n",
    "print(my_school.getAge())"
   ]
  },
  {
   "cell_type": "code",
   "execution_count": 22,
   "id": "f08df163",
   "metadata": {},
   "outputs": [
    {
     "name": "stdout",
     "output_type": "stream",
     "text": [
      "trying to get all parent classes\n"
     ]
    },
    {
     "ename": "AttributeError",
     "evalue": "'Child' object has no attribute 'getName'",
     "output_type": "error",
     "traceback": [
      "\u001b[1;31m---------------------------------------------------------------------------\u001b[0m",
      "\u001b[1;31mAttributeError\u001b[0m                            Traceback (most recent call last)",
      "Cell \u001b[1;32mIn[22], line 16\u001b[0m\n\u001b[0;32m     14\u001b[0m         \u001b[38;5;28mprint\u001b[39m(\u001b[38;5;124m\"\u001b[39m\u001b[38;5;124mtrying to get all parent classes\u001b[39m\u001b[38;5;124m\"\u001b[39m)\n\u001b[0;32m     15\u001b[0m my_child\u001b[38;5;241m=\u001b[39mChild()\n\u001b[1;32m---> 16\u001b[0m \u001b[38;5;28mprint\u001b[39m(\u001b[43mmy_child\u001b[49m\u001b[38;5;241;43m.\u001b[39;49m\u001b[43mgetName\u001b[49m())\n",
      "\u001b[1;31mAttributeError\u001b[0m: 'Child' object has no attribute 'getName'"
     ]
    }
   ],
   "source": [
    "class Parent1:\n",
    "    def getParameterName():\n",
    "        return \"Parent1\"\n",
    "class Parent2:\n",
    "    def defParameterName():\n",
    "        return \"Parent2\"\n",
    "class Parent3:\n",
    "    def getParameterName():\n",
    "        return \"Parent3\"\n",
    "class Child(Parent1 ,Parent2, Parent3):\n",
    "    def __init__(self):\n",
    "        self.getAllParent()\n",
    "    def getAllParent(self):\n",
    "        print(\"trying to get all parent classes\")\n",
    "        parent_list=[]\n",
    "        \n",
    "my_child=Child()\n",
    "print(my_child.getName())"
   ]
  },
  {
   "cell_type": "markdown",
   "id": "926294e0",
   "metadata": {},
   "source": [
    "# POLYMORPHISM"
   ]
  },
  {
   "cell_type": "code",
   "execution_count": 23,
   "id": "1ef507b8",
   "metadata": {},
   "outputs": [
    {
     "name": "stdout",
     "output_type": "stream",
     "text": [
      "32\n",
      "69\n"
     ]
    }
   ],
   "source": [
    "def addNumbers(a,b):\n",
    "    print(a+b)\n",
    "def addNumbers(a,b,c=2):\n",
    "    print(a+b+c)\n",
    "addNumbers(10,20)\n",
    "addNumbers(19,20,30)\n",
    "\n",
    "    "
   ]
  },
  {
   "cell_type": "code",
   "execution_count": 24,
   "id": "7805ec31",
   "metadata": {},
   "outputs": [
    {
     "name": "stdout",
     "output_type": "stream",
     "text": [
      "32\n",
      "41\n"
     ]
    }
   ],
   "source": [
    "def addNumbers(a,b):\n",
    "    print(a+b)\n",
    "def addNumbers(a,b,c=2):\n",
    "    print(a+b+c)\n",
    "addNumbers(10,20)\n",
    "addNumbers(19,20,)\n",
    "\n",
    "    "
   ]
  },
  {
   "cell_type": "code",
   "execution_count": 25,
   "id": "8a7ea612",
   "metadata": {},
   "outputs": [
    {
     "name": "stdout",
     "output_type": "stream",
     "text": [
      "32\n",
      "69\n"
     ]
    }
   ],
   "source": [
    "def addNumbers(a,b,c):\n",
    "    print(a+b)\n",
    "def addNumbers(a,b,c=2):\n",
    "    print(a+b+c)\n",
    "addNumbers(10,20)\n",
    "addNumbers(19,20,30)\n",
    "\n",
    "    "
   ]
  },
  {
   "cell_type": "code",
   "execution_count": 28,
   "id": "67297335",
   "metadata": {},
   "outputs": [
    {
     "name": "stdout",
     "output_type": "stream",
     "text": [
      "32\n",
      "69\n"
     ]
    },
    {
     "ename": "TypeError",
     "evalue": "addNumbers() takes from 2 to 3 positional arguments but 6 were given",
     "output_type": "error",
     "traceback": [
      "\u001b[1;31m---------------------------------------------------------------------------\u001b[0m",
      "\u001b[1;31mTypeError\u001b[0m                                 Traceback (most recent call last)",
      "Cell \u001b[1;32mIn[28], line 12\u001b[0m\n\u001b[0;32m     10\u001b[0m addNumbers(\u001b[38;5;241m10\u001b[39m,\u001b[38;5;241m20\u001b[39m)\n\u001b[0;32m     11\u001b[0m addNumbers(\u001b[38;5;241m19\u001b[39m,\u001b[38;5;241m20\u001b[39m,\u001b[38;5;241m30\u001b[39m)\n\u001b[1;32m---> 12\u001b[0m \u001b[43maddNumbers\u001b[49m\u001b[43m(\u001b[49m\u001b[38;5;241;43m10\u001b[39;49m\u001b[43m,\u001b[49m\u001b[38;5;241;43m20\u001b[39;49m\u001b[43m,\u001b[49m\u001b[38;5;241;43m30\u001b[39;49m\u001b[43m,\u001b[49m\u001b[38;5;241;43m40\u001b[39;49m\u001b[43m,\u001b[49m\u001b[38;5;241;43m50\u001b[39;49m\u001b[43m,\u001b[49m\u001b[38;5;241;43m60\u001b[39;49m\u001b[43m)\u001b[49m\n",
      "\u001b[1;31mTypeError\u001b[0m: addNumbers() takes from 2 to 3 positional arguments but 6 were given"
     ]
    }
   ],
   "source": [
    "def addNumbers(a,b):\n",
    "    print(a+b)\n",
    "def addNumbers(*args):\n",
    "    sum=0\n",
    "    for value in args:\n",
    "        sum+=args\n",
    "    print(sum)\n",
    "def addNumbers(a,b,c=2):\n",
    "    print(a+b+c)\n",
    "addNumbers(10,20)\n",
    "addNumbers(19,20,30)\n",
    "addNumbers(10,20,30,40,50,60)\n",
    "\n",
    "    "
   ]
  },
  {
   "cell_type": "code",
   "execution_count": 27,
   "id": "a831f65a",
   "metadata": {},
   "outputs": [
    {
     "name": "stdout",
     "output_type": "stream",
     "text": [
      "10 20 (30,)\n",
      "10 20 (30, 40, 50)\n"
     ]
    }
   ],
   "source": [
    "def addNumber3(arg1,arg2,*arg3):\n",
    "    print(arg1,arg2,arg3)\n",
    "addNumber3(10,20,30)\n",
    "addNumber3(10,20,30,40,50)"
   ]
  },
  {
   "cell_type": "code",
   "execution_count": 30,
   "id": "cd482c1a",
   "metadata": {},
   "outputs": [
    {
     "name": "stdout",
     "output_type": "stream",
     "text": [
      "210\n"
     ]
    }
   ],
   "source": [
    "def addNumbers(*args):\n",
    "    sum=0\n",
    "    for value in args:\n",
    "        sum+=value\n",
    "    print(sum)\n",
    "addNumbers(10,20,30,40,50,60)"
   ]
  },
  {
   "cell_type": "code",
   "execution_count": 35,
   "id": "d7b799db",
   "metadata": {},
   "outputs": [
    {
     "name": "stdout",
     "output_type": "stream",
     "text": [
      "tarak can fly\n"
     ]
    }
   ],
   "source": [
    "class Animal:\n",
    "    def printSomething():\n",
    "        print(\"Animals are good by nature\")\n",
    "    def canFly(self):\n",
    "        if(name==\"tarak\"):\n",
    "            print(\"animal can fly\")\n",
    "        else:\n",
    "            print(\"no animals can fly\")\n",
    "        \n",
    "class Dog(Animal):\n",
    "    def canFly(self):\n",
    "        print(\"dogs can not fly\")\n",
    "class Tarak(Animal):\n",
    "    def canFly(self):\n",
    "        print(\"tarak can fly\")\n",
    "my_tarak=Tarak()\n",
    "my_tarak.canFly()\n",
    "\n",
    "    "
   ]
  },
  {
   "cell_type": "code",
   "execution_count": 32,
   "id": "8d3efef7",
   "metadata": {},
   "outputs": [
    {
     "name": "stdout",
     "output_type": "stream",
     "text": [
      "Dileep\n"
     ]
    },
    {
     "ename": "TypeError",
     "evalue": "doJob() takes 1 positional argument but 3 were given",
     "output_type": "error",
     "traceback": [
      "\u001b[1;31m---------------------------------------------------------------------------\u001b[0m",
      "\u001b[1;31mTypeError\u001b[0m                                 Traceback (most recent call last)",
      "Cell \u001b[1;32mIn[32], line 6\u001b[0m\n\u001b[0;32m      4\u001b[0m     \u001b[38;5;28mprint\u001b[39m(\u001b[38;5;124m\"\u001b[39m\u001b[38;5;124mDileep\u001b[39m\u001b[38;5;124m\"\u001b[39m)\n\u001b[0;32m      5\u001b[0m doJob(\u001b[38;5;241m10\u001b[39m)\n\u001b[1;32m----> 6\u001b[0m \u001b[43mdoJob\u001b[49m\u001b[43m(\u001b[49m\u001b[38;5;241;43m10\u001b[39;49m\u001b[43m,\u001b[49m\u001b[38;5;241;43m20\u001b[39;49m\u001b[43m,\u001b[49m\u001b[38;5;241;43m30\u001b[39;49m\u001b[43m)\u001b[49m\n",
      "\u001b[1;31mTypeError\u001b[0m: doJob() takes 1 positional argument but 3 were given"
     ]
    }
   ],
   "source": [
    "def doJob(arg1,arg2,arg3):\n",
    "    print(\"dileep\")\n",
    "def doJob(a):\n",
    "    print(\"Dileep\")\n",
    "doJob(10)\n",
    "doJob(10,20,30)  #python doesn't support method overloadind"
   ]
  },
  {
   "cell_type": "code",
   "execution_count": 37,
   "id": "0995e8c2",
   "metadata": {},
   "outputs": [],
   "source": [
    "class Library:\n",
    "    book=[\"the fault in our stars\",\"Abang\",\"Citadel\"]\n",
    "    author_book={\n",
    "        \"Pablo\":[\"escobar\",\"escobar returns\",\"escobar part3\"]\n",
    "    }\n",
    "    def getAllBooks():\n",
    "        pass\n",
    "    def addBook():\n",
    "        pass\n",
    "    def getBookByAuthorName(authorName):\n",
    "        for key in author_book:\n",
    "            if key==authorName:\n",
    "                print(author_book[key])\n",
    "        \n",
    "    def sortBooksInTopologicalOrder():\n",
    "        book_copy=[]\n",
    "        for booś\n",
    "    def getAllSubscribers():\n",
    "        pass\n",
    "    def getAllEarnings():\n",
    "        pass\n",
    "    def getUnavavailableBooks():\n",
    "        pass\n",
    "    def mapAuthorWithABook():\n",
    "        pass\n",
    "class MyLibrary(Library):\n",
    "    def getFavouriteBook():\n",
    "        pass\n",
    "    def getFavouriteCustomer():\n",
    "        pass"
   ]
  },
  {
   "cell_type": "code",
   "execution_count": null,
   "id": "8e22df53",
   "metadata": {},
   "outputs": [],
   "source": []
  },
  {
   "cell_type": "code",
   "execution_count": null,
   "id": "79163933",
   "metadata": {},
   "outputs": [],
   "source": []
  },
  {
   "cell_type": "code",
   "execution_count": null,
   "id": "9ac57bd0",
   "metadata": {},
   "outputs": [],
   "source": []
  },
  {
   "cell_type": "code",
   "execution_count": null,
   "id": "42f64c59",
   "metadata": {},
   "outputs": [],
   "source": []
  }
 ],
 "metadata": {
  "kernelspec": {
   "display_name": "Python 3 (ipykernel)",
   "language": "python",
   "name": "python3"
  },
  "language_info": {
   "codemirror_mode": {
    "name": "ipython",
    "version": 3
   },
   "file_extension": ".py",
   "mimetype": "text/x-python",
   "name": "python",
   "nbconvert_exporter": "python",
   "pygments_lexer": "ipython3",
   "version": "3.10.9"
  }
 },
 "nbformat": 4,
 "nbformat_minor": 5
}
