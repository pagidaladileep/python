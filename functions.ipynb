{
 "cells": [
  {
   "cell_type": "code",
   "execution_count": 1,
   "id": "a5739e11",
   "metadata": {},
   "outputs": [
    {
     "name": "stdout",
     "output_type": "stream",
     "text": [
      "20\n"
     ]
    }
   ],
   "source": [
    "def add():\n",
    "    a=10;\n",
    "    b=10\n",
    "    print(a+b)\n",
    "add()"
   ]
  },
  {
   "cell_type": "code",
   "execution_count": 2,
   "id": "9c63f7de",
   "metadata": {},
   "outputs": [
    {
     "name": "stdout",
     "output_type": "stream",
     "text": [
      "Enter num:10\n",
      "Enter num:20\n",
      "30\n"
     ]
    }
   ],
   "source": [
    "def add():\n",
    "    a=int(input(\"Enter num:\"));\n",
    "    b=int(input(\"Enter num:\"));\n",
    "    print(a+b)\n",
    "add()"
   ]
  },
  {
   "cell_type": "code",
   "execution_count": 3,
   "id": "2d6d44b6",
   "metadata": {},
   "outputs": [
    {
     "name": "stdout",
     "output_type": "stream",
     "text": [
      "Enter num:4l\n"
     ]
    },
    {
     "ename": "ValueError",
     "evalue": "invalid literal for int() with base 10: '4l'",
     "output_type": "error",
     "traceback": [
      "\u001b[1;31m---------------------------------------------------------------------------\u001b[0m",
      "\u001b[1;31mValueError\u001b[0m                                Traceback (most recent call last)",
      "Cell \u001b[1;32mIn[3], line 5\u001b[0m\n\u001b[0;32m      3\u001b[0m     b\u001b[38;5;241m=\u001b[39m\u001b[38;5;28mint\u001b[39m(\u001b[38;5;28minput\u001b[39m(\u001b[38;5;124m\"\u001b[39m\u001b[38;5;124mEnter num:\u001b[39m\u001b[38;5;124m\"\u001b[39m));\n\u001b[0;32m      4\u001b[0m     \u001b[38;5;28mprint\u001b[39m(a\u001b[38;5;241m+\u001b[39mb)\n\u001b[1;32m----> 5\u001b[0m \u001b[43madd\u001b[49m\u001b[43m(\u001b[49m\u001b[43m)\u001b[49m\n",
      "Cell \u001b[1;32mIn[3], line 2\u001b[0m, in \u001b[0;36madd\u001b[1;34m()\u001b[0m\n\u001b[0;32m      1\u001b[0m \u001b[38;5;28;01mdef\u001b[39;00m \u001b[38;5;21madd\u001b[39m():\n\u001b[1;32m----> 2\u001b[0m     a\u001b[38;5;241m=\u001b[39m\u001b[38;5;28;43mint\u001b[39;49m\u001b[43m(\u001b[49m\u001b[38;5;28;43minput\u001b[39;49m\u001b[43m(\u001b[49m\u001b[38;5;124;43m\"\u001b[39;49m\u001b[38;5;124;43mEnter num:\u001b[39;49m\u001b[38;5;124;43m\"\u001b[39;49m\u001b[43m)\u001b[49m\u001b[43m)\u001b[49m;\n\u001b[0;32m      3\u001b[0m     b\u001b[38;5;241m=\u001b[39m\u001b[38;5;28mint\u001b[39m(\u001b[38;5;28minput\u001b[39m(\u001b[38;5;124m\"\u001b[39m\u001b[38;5;124mEnter num:\u001b[39m\u001b[38;5;124m\"\u001b[39m));\n\u001b[0;32m      4\u001b[0m     \u001b[38;5;28mprint\u001b[39m(a\u001b[38;5;241m+\u001b[39mb)\n",
      "\u001b[1;31mValueError\u001b[0m: invalid literal for int() with base 10: '4l'"
     ]
    }
   ],
   "source": [
    "def add():\n",
    "    a=int(input(\"Enter num:\"));\n",
    "    b=int(input(\"Enter num:\"));\n",
    "    print(a+b)\n",
    "add()"
   ]
  },
  {
   "cell_type": "code",
   "execution_count": 5,
   "id": "c01c197c",
   "metadata": {},
   "outputs": [
    {
     "name": "stdout",
     "output_type": "stream",
     "text": [
      "Enter num:4l\n",
      "invalid literal for int() with base 10: '4l'\n",
      "Enter num:3b\n",
      "invalid literal for int() with base 10: '3b'\n"
     ]
    },
    {
     "ename": "UnboundLocalError",
     "evalue": "local variable 'a' referenced before assignment",
     "output_type": "error",
     "traceback": [
      "\u001b[1;31m---------------------------------------------------------------------------\u001b[0m",
      "\u001b[1;31mUnboundLocalError\u001b[0m                         Traceback (most recent call last)",
      "Cell \u001b[1;32mIn[5], line 11\u001b[0m\n\u001b[0;32m      9\u001b[0m         \u001b[38;5;28mprint\u001b[39m(err);\n\u001b[0;32m     10\u001b[0m     \u001b[38;5;28mprint\u001b[39m(a\u001b[38;5;241m+\u001b[39mb)\n\u001b[1;32m---> 11\u001b[0m \u001b[43madd\u001b[49m\u001b[43m(\u001b[49m\u001b[43m)\u001b[49m\n",
      "Cell \u001b[1;32mIn[5], line 10\u001b[0m, in \u001b[0;36madd\u001b[1;34m()\u001b[0m\n\u001b[0;32m      8\u001b[0m \u001b[38;5;28;01mexcept\u001b[39;00m \u001b[38;5;167;01mValueError\u001b[39;00m \u001b[38;5;28;01mas\u001b[39;00m err:\n\u001b[0;32m      9\u001b[0m     \u001b[38;5;28mprint\u001b[39m(err);\n\u001b[1;32m---> 10\u001b[0m \u001b[38;5;28mprint\u001b[39m(\u001b[43ma\u001b[49m\u001b[38;5;241m+\u001b[39mb)\n",
      "\u001b[1;31mUnboundLocalError\u001b[0m: local variable 'a' referenced before assignment"
     ]
    }
   ],
   "source": [
    "def add():\n",
    "    try:\n",
    "        a=int(input(\"Enter num:\"));\n",
    "    except ValueError as err:\n",
    "        print(err);\n",
    "    try:\n",
    "        b=int(input(\"Enter num:\"));\n",
    "    except ValueError as err:\n",
    "        print(err);\n",
    "    print(a+b)\n",
    "add()"
   ]
  },
  {
   "cell_type": "code",
   "execution_count": 6,
   "id": "40083a94",
   "metadata": {},
   "outputs": [],
   "source": [
    "#add"
   ]
  },
  {
   "cell_type": "code",
   "execution_count": 8,
   "id": "974826b1",
   "metadata": {},
   "outputs": [
    {
     "name": "stdout",
     "output_type": "stream",
     "text": [
      "30\n"
     ]
    }
   ],
   "source": [
    "def addNumbers():\n",
    "    a=10;\n",
    "    b=20;\n",
    "    return (a+b)\n",
    "sum=addNumbers()\n",
    "print(sum)"
   ]
  },
  {
   "cell_type": "code",
   "execution_count": 9,
   "id": "6faa410b",
   "metadata": {},
   "outputs": [
    {
     "name": "stdout",
     "output_type": "stream",
     "text": [
      "40\n"
     ]
    }
   ],
   "source": [
    "def addNumbers(a,b):       #a,b arguments\n",
    "    return a+b\n",
    "sum=addNumbers(10,30)      #10,30 parameters\n",
    "print(sum)"
   ]
  },
  {
   "cell_type": "code",
   "execution_count": 10,
   "id": "c97fe26e",
   "metadata": {},
   "outputs": [
    {
     "name": "stdout",
     "output_type": "stream",
     "text": [
      "(10, 20, 30)\n"
     ]
    }
   ],
   "source": [
    "def returnMultipleValues():\n",
    "    return 10,20,30\n",
    "output=returnMultipleValues();\n",
    "print(output)\n",
    "#In python we return multiple return valuef"
   ]
  },
  {
   "cell_type": "code",
   "execution_count": 4,
   "id": "6a19fe97",
   "metadata": {},
   "outputs": [
    {
     "name": "stdout",
     "output_type": "stream",
     "text": [
      "Enter range:6\n",
      "0 1 1 2 3 5 "
     ]
    }
   ],
   "source": [
    "def fib(n):\n",
    "    if(n==0):\n",
    "        print(0)\n",
    "    elif(n==1): \n",
    "        print(0,1) \n",
    "    else:\n",
    "        a=0\n",
    "        b=1 \n",
    "        print(a,b,end=\" \")\n",
    "        for i in range(2,n): \n",
    "            c=a+b\n",
    "            print(c,end=\" \")\n",
    "            a=b\n",
    "            b=c\n",
    "num=int(input(\"Enter range:\"))\n",
    "fib(num)"
   ]
  },
  {
   "cell_type": "code",
   "execution_count": 9,
   "id": "b2d0f45f",
   "metadata": {},
   "outputs": [
    {
     "name": "stdout",
     "output_type": "stream",
     "text": [
      "Enter range:5\n",
      "0 1 1 2 3 "
     ]
    }
   ],
   "source": [
    "def fib(n):\n",
    "    if n<=0:\n",
    "        print(\"Invalid Argumentg\")\n",
    "    elif(n==0):\n",
    "        print(0)\n",
    "    elif(n==1): \n",
    "        print(0,1,end=\" \") \n",
    "    else:\n",
    "        a=0\n",
    "        b=1 \n",
    "        print(a,b,end=\" \")\n",
    "        count=3\n",
    "        while count<=n:\n",
    "            c=a+b\n",
    "            print(c,end=\" \")\n",
    "            a=b\n",
    "            b=c\n",
    "            count+=1\n",
    "num=int(input(\"Enter range:\"))\n",
    "fib(num)"
   ]
  },
  {
   "cell_type": "code",
   "execution_count": 16,
   "id": "976ea330",
   "metadata": {},
   "outputs": [
    {
     "name": "stdout",
     "output_type": "stream",
     "text": [
      "9\n",
      "24\n",
      "LCM: 72.0 GCD: 3\n"
     ]
    }
   ],
   "source": [
    "def GCD(a,b):\n",
    "    while b!=0:\n",
    "        t=b\n",
    "        b=a%b\n",
    "        a=t\n",
    "    return a\n",
    "def LCM(a,b):\n",
    "    gcd=GCD(a,b)\n",
    "    lcm=(a*b)/gcd\n",
    "    return lcm\n",
    "a=int(input())\n",
    "b=int(input())\n",
    "print(\"LCM:\",LCM(a,b),\"GCD:\",GCD(a,b))"
   ]
  },
  {
   "cell_type": "code",
   "execution_count": 18,
   "id": "a91d9f79",
   "metadata": {},
   "outputs": [
    {
     "name": "stdout",
     "output_type": "stream",
     "text": [
      "180\n"
     ]
    }
   ],
   "source": [
    "def findLcm(a,b):\n",
    "    if a>b:\n",
    "        greater=a\n",
    "    else:\n",
    "        greater=b\n",
    "    while True:\n",
    "        if((greater %a==0) and (greater%b==0)):\n",
    "            lcm=greater\n",
    "            break\n",
    "        greater+=1\n",
    "    return lcm\n",
    "print(findLcm(18,20))"
   ]
  },
  {
   "cell_type": "code",
   "execution_count": 21,
   "id": "224099f9",
   "metadata": {},
   "outputs": [
    {
     "name": "stdout",
     "output_type": "stream",
     "text": [
      "10\n",
      "9\n",
      "8\n",
      "7\n",
      "6\n",
      "5\n",
      "4\n",
      "3\n",
      "3\n",
      "4\n",
      "5\n",
      "6\n",
      "7\n",
      "8\n",
      "9\n",
      "10\n"
     ]
    }
   ],
   "source": [
    "def doJob(n):\n",
    "    if n<=2:\n",
    "        return\n",
    "    print(n)\n",
    "    doJob(n-1)\n",
    "    print(n)\n",
    "doJob(10)"
   ]
  },
  {
   "cell_type": "markdown",
   "id": "e2dfd20c",
   "metadata": {},
   "source": [
    "# Solving Recurssion"
   ]
  },
  {
   "cell_type": "markdown",
   "id": "f568cecb",
   "metadata": {},
   "source": [
    "# 1.Tree"
   ]
  },
  {
   "cell_type": "markdown",
   "id": "534cddeb",
   "metadata": {},
   "source": [
    "# 2.Stack\n"
   ]
  },
  {
   "cell_type": "code",
   "execution_count": 25,
   "id": "8c9b24da",
   "metadata": {},
   "outputs": [
    {
     "name": "stdout",
     "output_type": "stream",
     "text": [
      "6\n",
      "6\n",
      "7\n",
      "6\n",
      "6\n",
      "7\n",
      "8\n",
      "6\n",
      "6\n",
      "7\n",
      "6\n",
      "6\n",
      "7\n",
      "8\n"
     ]
    }
   ],
   "source": [
    "def doJob2(n):\n",
    "    if n<=5:\n",
    "        return\n",
    "    doJob2(n-1)\n",
    "    print(n)\n",
    "    doJob2(n-1)\n",
    "    print(n)\n",
    "doJob2(8)"
   ]
  },
  {
   "cell_type": "code",
   "execution_count": null,
   "id": "3c1b3eaf",
   "metadata": {},
   "outputs": [],
   "source": []
  }
 ],
 "metadata": {
  "kernelspec": {
   "display_name": "Python 3 (ipykernel)",
   "language": "python",
   "name": "python3"
  },
  "language_info": {
   "codemirror_mode": {
    "name": "ipython",
    "version": 3
   },
   "file_extension": ".py",
   "mimetype": "text/x-python",
   "name": "python",
   "nbconvert_exporter": "python",
   "pygments_lexer": "ipython3",
   "version": "3.10.9"
  }
 },
 "nbformat": 4,
 "nbformat_minor": 5
}
