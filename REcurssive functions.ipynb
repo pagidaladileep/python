{
 "cells": [
  {
   "cell_type": "code",
   "execution_count": 1,
   "id": "c412a5b9",
   "metadata": {},
   "outputs": [
    {
     "name": "stdout",
     "output_type": "stream",
     "text": [
      "12\n",
      "11\n",
      "10\n",
      "10\n",
      "11\n",
      "12\n"
     ]
    }
   ],
   "source": [
    "def f(n):\n",
    "    if n<=10:\n",
    "        return\n",
    "    print(n-1)\n",
    "    f(n-1)\n",
    "    print(n-1)\n",
    "f(13)"
   ]
  },
  {
   "cell_type": "code",
   "execution_count": 2,
   "id": "9477c0a2",
   "metadata": {},
   "outputs": [
    {
     "name": "stdout",
     "output_type": "stream",
     "text": [
      "3\n"
     ]
    }
   ],
   "source": [
    "def fib(n):\n",
    "    if n<=0:\n",
    "        print(\"INVALID NUMVER\")\n",
    "    elif n==1:\n",
    "        return 0\n",
    "    elif n==2:\n",
    "        return 1\n",
    "    else:\n",
    "        return fib(n-1)+fib(n-2)\n",
    "print(fib(5))\n",
    "\n",
    "        "
   ]
  },
  {
   "cell_type": "code",
   "execution_count": 11,
   "id": "059d0f96",
   "metadata": {},
   "outputs": [
    {
     "name": "stdout",
     "output_type": "stream",
     "text": [
      "Enter range:6\n"
     ]
    },
    {
     "data": {
      "text/plain": [
       "12"
      ]
     },
     "execution_count": 11,
     "metadata": {},
     "output_type": "execute_result"
    }
   ],
   "source": [
    "def fib(n):\n",
    "    if(n==0):\n",
    "        print(0)\n",
    "    elif(n==1): \n",
    "        print(0+1) \n",
    "    else:\n",
    "        a=0\n",
    "        b=1 \n",
    "        sum=1\n",
    "        for i in range(2,n): \n",
    "            c=a+b\n",
    "            sum=sum+c\n",
    "            a=b\n",
    "            b=c\n",
    "        return sum\n",
    "num=int(input(\"Enter range:\"))\n",
    "fib(num)"
   ]
  },
  {
   "cell_type": "code",
   "execution_count": 14,
   "id": "5fd7e09b",
   "metadata": {},
   "outputs": [
    {
     "name": "stdout",
     "output_type": "stream",
     "text": [
      "88\n"
     ]
    }
   ],
   "source": [
    " def sumFib(n):\n",
    "        if n<=0:\n",
    "             return -1\n",
    "        if n==1:\n",
    "            return 0\n",
    "        if n==2:\n",
    "            return 1\n",
    "        first,second=0,1\n",
    "        result=first+second\n",
    "        for i in range(2,n):\n",
    "            next=first+second\n",
    "            result+=next\n",
    "            first=second\n",
    "            second=next\n",
    "        print(result)\n",
    "sumFib(10)\n"
   ]
  },
  {
   "cell_type": "code",
   "execution_count": 19,
   "id": "9f2d5d82",
   "metadata": {},
   "outputs": [
    {
     "name": "stdout",
     "output_type": "stream",
     "text": [
      "{1, 2, 3, 4, 5, 67, 45, 23}\n"
     ]
    }
   ],
   "source": [
    "arr=[1,2,1,2,3,4,5,4,3,5,3,4,3,23,45,67,5,4,67]\n",
    "my_set=set(arr)\n",
    "print(my_set)\n"
   ]
  },
  {
   "cell_type": "code",
   "execution_count": 20,
   "id": "14aa9d0a",
   "metadata": {},
   "outputs": [
    {
     "name": "stdout",
     "output_type": "stream",
     "text": [
      "{1, 2, 3, 4, 5, 67, 34, 45, 23}\n"
     ]
    }
   ],
   "source": [
    "arr=[1,2,1,2,3,4,5,4,3,5,3,4,3,23,45,67,5,4,67]\n",
    "my_set=set(arr)\n",
    "my_set.add(34)\n",
    "print(my_set)"
   ]
  },
  {
   "cell_type": "code",
   "execution_count": 22,
   "id": "da9e6549",
   "metadata": {},
   "outputs": [
    {
     "name": "stdout",
     "output_type": "stream",
     "text": [
      "set()\n"
     ]
    }
   ],
   "source": [
    "arr=[1,2,1,2,3,4,5,4,3,5,3,4,3,23,45,67,5,4,67]\n",
    "my_set=set(arr)\n",
    "my_set.clear()\n",
    "print(my_set)"
   ]
  },
  {
   "cell_type": "code",
   "execution_count": 24,
   "id": "6b2c727c",
   "metadata": {},
   "outputs": [
    {
     "name": "stdout",
     "output_type": "stream",
     "text": [
      "{1, 2, 3, 4, 5, 67, 45, 23}\n"
     ]
    }
   ],
   "source": [
    "arr=[1,2,1,2,3,4,5,4,3,5,3,4,3,23,45,67,5,4,67]\n",
    "my_set=set(arr)\n",
    "my_set2=my_set.copy()\n",
    "print(my_set2)"
   ]
  },
  {
   "cell_type": "markdown",
   "id": "7d187d1c",
   "metadata": {},
   "source": [
    "# Dictionaries"
   ]
  },
  {
   "cell_type": "markdown",
   "id": "9088aeae",
   "metadata": {},
   "source": [
    "1.Key-value pair"
   ]
  },
  {
   "cell_type": "markdown",
   "id": "3e117ab1",
   "metadata": {},
   "source": [
    "2.Ordered"
   ]
  },
  {
   "cell_type": "markdown",
   "id": "9cf49c13",
   "metadata": {},
   "source": [
    "3.Changable"
   ]
  },
  {
   "cell_type": "markdown",
   "id": "e5a4570e",
   "metadata": {},
   "source": [
    "4.No duplicates"
   ]
  },
  {
   "cell_type": "code",
   "execution_count": 27,
   "id": "92c03bd3",
   "metadata": {},
   "outputs": [
    {
     "name": "stdout",
     "output_type": "stream",
     "text": [
      "{1, 2, 3, 43, 90}\n"
     ]
    }
   ],
   "source": [
    "my_set=set([1,2,3,43,1])\n",
    "my_set.add(90)\n",
    "print(my_set)"
   ]
  },
  {
   "cell_type": "code",
   "execution_count": 28,
   "id": "66e969a8",
   "metadata": {},
   "outputs": [
    {
     "ename": "AttributeError",
     "evalue": "'set' object has no attribute 'get'",
     "output_type": "error",
     "traceback": [
      "\u001b[1;31m---------------------------------------------------------------------------\u001b[0m",
      "\u001b[1;31mAttributeError\u001b[0m                            Traceback (most recent call last)",
      "Cell \u001b[1;32mIn[28], line 1\u001b[0m\n\u001b[1;32m----> 1\u001b[0m \u001b[43mmy_set\u001b[49m\u001b[38;5;241;43m.\u001b[39;49m\u001b[43mget\u001b[49m(\u001b[38;5;241m1\u001b[39m)\n",
      "\u001b[1;31mAttributeError\u001b[0m: 'set' object has no attribute 'get'"
     ]
    }
   ],
   "source": [
    "my_set.get(1)"
   ]
  },
  {
   "cell_type": "code",
   "execution_count": 29,
   "id": "caf3c4ce",
   "metadata": {},
   "outputs": [
    {
     "ename": "AttributeError",
     "evalue": "'set' object has no attribute 'get'",
     "output_type": "error",
     "traceback": [
      "\u001b[1;31m---------------------------------------------------------------------------\u001b[0m",
      "\u001b[1;31mAttributeError\u001b[0m                            Traceback (most recent call last)",
      "Cell \u001b[1;32mIn[29], line 1\u001b[0m\n\u001b[1;32m----> 1\u001b[0m \u001b[43mmy_set\u001b[49m\u001b[38;5;241;43m.\u001b[39;49m\u001b[43mget\u001b[49m()\n",
      "\u001b[1;31mAttributeError\u001b[0m: 'set' object has no attribute 'get'"
     ]
    }
   ],
   "source": [
    "my_set.get()"
   ]
  },
  {
   "cell_type": "code",
   "execution_count": 31,
   "id": "c77f2a61",
   "metadata": {},
   "outputs": [
    {
     "name": "stdout",
     "output_type": "stream",
     "text": [
      "<class 'dict'>\n"
     ]
    }
   ],
   "source": [
    "dict={\n",
    "    \"name\":\"Dileep\",\n",
    "    \"age\":20,\n",
    "    \"college\":\"RGM\"\n",
    "}\n",
    "print(type(dict))"
   ]
  },
  {
   "cell_type": "code",
   "execution_count": 32,
   "id": "93bc5336",
   "metadata": {},
   "outputs": [
    {
     "name": "stdout",
     "output_type": "stream",
     "text": [
      "Dileep\n"
     ]
    }
   ],
   "source": [
    "print(dict[\"name\"])"
   ]
  },
  {
   "cell_type": "code",
   "execution_count": 33,
   "id": "38d09ba8",
   "metadata": {},
   "outputs": [
    {
     "name": "stdout",
     "output_type": "stream",
     "text": [
      "Kumar\n"
     ]
    }
   ],
   "source": [
    "dict[\"name\"]=\"Kumar\"\n",
    "print(dict[\"name\"])"
   ]
  },
  {
   "cell_type": "markdown",
   "id": "561ffe3b",
   "metadata": {},
   "source": [
    "# Object Oriented Programming"
   ]
  },
  {
   "cell_type": "markdown",
   "id": "afb1436c",
   "metadata": {},
   "source": [
    "logic should revolve around the concept of classes and instances of these classes"
   ]
  },
  {
   "cell_type": "code",
   "execution_count": 38,
   "id": "fcd43862",
   "metadata": {},
   "outputs": [
    {
     "name": "stdout",
     "output_type": "stream",
     "text": [
      "6\n",
      "4\n"
     ]
    }
   ],
   "source": [
    "class Car:\n",
    "    engineType=\"strongest Engine\"\n",
    "    numberOfTyers=4\n",
    "    numberOfWindow=6\n",
    "    isFridgeAvailable=True\n",
    "    \n",
    "    def getNumberOfWindows(self):\n",
    "        return self.numberOfWindow\n",
    "    def getNumberOfTyres(self):\n",
    "        return self.numberOfTyers\n",
    "car1=Car()\n",
    "print(car1.getNumberOfWindows())\n",
    "print(car1.getNumberOfTyres())\n",
    "    "
   ]
  },
  {
   "cell_type": "markdown",
   "id": "7a76c981",
   "metadata": {},
   "source": [
    "#https://github.com/meh-sudhanshu/RGM"
   ]
  },
  {
   "cell_type": "code",
   "execution_count": null,
   "id": "d6ec1fa9",
   "metadata": {},
   "outputs": [],
   "source": []
  },
  {
   "cell_type": "code",
   "execution_count": null,
   "id": "229ce288",
   "metadata": {},
   "outputs": [],
   "source": []
  },
  {
   "cell_type": "code",
   "execution_count": null,
   "id": "e206d4f6",
   "metadata": {},
   "outputs": [],
   "source": []
  },
  {
   "cell_type": "code",
   "execution_count": null,
   "id": "9eacd63b",
   "metadata": {},
   "outputs": [],
   "source": []
  },
  {
   "cell_type": "code",
   "execution_count": null,
   "id": "88e12047",
   "metadata": {},
   "outputs": [],
   "source": []
  },
  {
   "cell_type": "code",
   "execution_count": null,
   "id": "8e9dfeeb",
   "metadata": {},
   "outputs": [],
   "source": []
  }
 ],
 "metadata": {
  "kernelspec": {
   "display_name": "Python 3 (ipykernel)",
   "language": "python",
   "name": "python3"
  },
  "language_info": {
   "codemirror_mode": {
    "name": "ipython",
    "version": 3
   },
   "file_extension": ".py",
   "mimetype": "text/x-python",
   "name": "python",
   "nbconvert_exporter": "python",
   "pygments_lexer": "ipython3",
   "version": "3.10.9"
  }
 },
 "nbformat": 4,
 "nbformat_minor": 5
}
